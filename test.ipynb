{
 "cells": [
  {
   "cell_type": "code",
   "execution_count": 1,
   "metadata": {},
   "outputs": [
    {
     "data": {
      "text/plain": [
       "'c:\\\\Users\\\\giorg\\\\OneDrive\\\\Έγγραφα\\\\Σχολή\\\\Πτυχιακή\\\\ADBOD'"
      ]
     },
     "execution_count": 1,
     "metadata": {},
     "output_type": "execute_result"
    }
   ],
   "source": [
    "import os\n",
    "import sys\n",
    "\n",
    "os.getcwd()\n",
    "# Change the current working directory to one dir above\n",
    "# os.chdir(os.path.dirname(os.getcwd()))\n",
    "os.getcwd()\n"
   ]
  },
  {
   "cell_type": "code",
   "execution_count": 1,
   "metadata": {},
   "outputs": [],
   "source": [
    "import matplotlib.pyplot as plt\n",
    "import numpy as np\n",
    "from scipy.spatial.distance import cdist\n",
    "from numpy import ndarray as NDArray\n",
    "import pandas as pd\n",
    "import random\n",
    "from Techniques import dynamic\n",
    "import time\n",
    "from tqdm import tqdm\n",
    "import numpy as np\n",
    "import math\n",
    "import matplotlib.pyplot as plt\n",
    "import pandas as pd\n",
    "from sklearn.metrics import f1_score, recall_score, precision_score\n",
    "from prts import ts_recall, ts_precision\n",
    "# from TSB_UAD_code.feature import Window\n",
    "\n",
    "from Techniques.dynamic import dynamic_kr\n",
    "# from TSB_UAD_code.slidingWindows import find_length\n",
    "# from sklearn.preprocessing import MinMaxScaler\n",
    "\n",
    "import tsfel\n",
    "import variables\n",
    "from my_experiment import Experiment\n"
   ]
  },
  {
   "cell_type": "code",
   "execution_count": 14,
   "metadata": {},
   "outputs": [
    {
     "name": "stderr",
     "output_type": "stream",
     "text": [
      "100%|██████████| 100/100 [00:07<00:00, 12.86it/s]\n",
      "100%|██████████| 100/100 [00:09<00:00, 10.92it/s]\n",
      "100%|██████████| 100/100 [00:12<00:00,  8.23it/s]\n",
      "100%|██████████| 100/100 [00:12<00:00,  8.28it/s]\n"
     ]
    }
   ],
   "source": [
    "z1 = list(d / 2 for d in range(4, 20))\n",
    "\n",
    "df = pd.DataFrame()\n",
    "# Add 5 columns to the dataframe --> dataset, time, recall, precision, f1\n",
    "df['dataset'] = ''\n",
    "df['time'] = ''\n",
    "df['recall'] = ''\n",
    "df['precision'] = ''\n",
    "df['f1'] = ''\n",
    "\n",
    "# Test the Yahoo dataset with the selected z values\n",
    "for dataset in variables.datasets:\n",
    "    times_original, recalls_original, precisions_original, f1s_original = Experiment.test_dataset(dataset_root_name=dataset, mode='z', slide=100, window=200, z=z1)\n",
    "\n",
    "    for i in range(len(times_original)):\n",
    "        df = pd.concat([df, pd.DataFrame({'dataset': [f'{dataset}'], 'time': [times_original[i]], 'recall': [recalls_original[i]], 'precision': [precisions_original[i]], 'f1': [f1s_original[i]]})], ignore_index=True)\n",
    "\n",
    "\n"
   ]
  },
  {
   "cell_type": "code",
   "execution_count": 15,
   "metadata": {},
   "outputs": [
    {
     "data": {
      "text/html": [
       "<div>\n",
       "<style scoped>\n",
       "    .dataframe tbody tr th:only-of-type {\n",
       "        vertical-align: middle;\n",
       "    }\n",
       "\n",
       "    .dataframe tbody tr th {\n",
       "        vertical-align: top;\n",
       "    }\n",
       "\n",
       "    .dataframe thead th {\n",
       "        text-align: right;\n",
       "    }\n",
       "</style>\n",
       "<table border=\"1\" class=\"dataframe\">\n",
       "  <thead>\n",
       "    <tr style=\"text-align: right;\">\n",
       "      <th></th>\n",
       "      <th>dataset</th>\n",
       "      <th>time</th>\n",
       "      <th>recall</th>\n",
       "      <th>precision</th>\n",
       "      <th>f1</th>\n",
       "    </tr>\n",
       "  </thead>\n",
       "  <tbody>\n",
       "    <tr>\n",
       "      <th>0</th>\n",
       "      <td>./data/YAHOO/Yahoo_A1real_</td>\n",
       "      <td>0.137691</td>\n",
       "      <td>0.500000</td>\n",
       "      <td>0.083333</td>\n",
       "      <td>0.142857</td>\n",
       "    </tr>\n",
       "    <tr>\n",
       "      <th>1</th>\n",
       "      <td>./data/YAHOO/Yahoo_A1real_</td>\n",
       "      <td>0.135514</td>\n",
       "      <td>0.062500</td>\n",
       "      <td>0.055556</td>\n",
       "      <td>0.058824</td>\n",
       "    </tr>\n",
       "    <tr>\n",
       "      <th>2</th>\n",
       "      <td>./data/YAHOO/Yahoo_A1real_</td>\n",
       "      <td>0.091561</td>\n",
       "      <td>0.133333</td>\n",
       "      <td>0.181818</td>\n",
       "      <td>0.153846</td>\n",
       "    </tr>\n",
       "    <tr>\n",
       "      <th>3</th>\n",
       "      <td>./data/YAHOO/Yahoo_A1real_</td>\n",
       "      <td>0.132491</td>\n",
       "      <td>0.600000</td>\n",
       "      <td>0.230769</td>\n",
       "      <td>0.333333</td>\n",
       "    </tr>\n",
       "    <tr>\n",
       "      <th>4</th>\n",
       "      <td>./data/YAHOO/Yahoo_A1real_</td>\n",
       "      <td>0.120018</td>\n",
       "      <td>0.500000</td>\n",
       "      <td>0.100000</td>\n",
       "      <td>0.166667</td>\n",
       "    </tr>\n",
       "    <tr>\n",
       "      <th>...</th>\n",
       "      <td>...</td>\n",
       "      <td>...</td>\n",
       "      <td>...</td>\n",
       "      <td>...</td>\n",
       "      <td>...</td>\n",
       "    </tr>\n",
       "    <tr>\n",
       "      <th>358</th>\n",
       "      <td>./data/YAHOO/YahooA4Benchmark-TS</td>\n",
       "      <td>0.104858</td>\n",
       "      <td>0.307692</td>\n",
       "      <td>0.222222</td>\n",
       "      <td>0.258065</td>\n",
       "    </tr>\n",
       "    <tr>\n",
       "      <th>359</th>\n",
       "      <td>./data/YAHOO/YahooA4Benchmark-TS</td>\n",
       "      <td>0.101684</td>\n",
       "      <td>0.200000</td>\n",
       "      <td>0.071429</td>\n",
       "      <td>0.105263</td>\n",
       "    </tr>\n",
       "    <tr>\n",
       "      <th>360</th>\n",
       "      <td>./data/YAHOO/YahooA4Benchmark-TS</td>\n",
       "      <td>0.099763</td>\n",
       "      <td>0.500000</td>\n",
       "      <td>0.071429</td>\n",
       "      <td>0.125000</td>\n",
       "    </tr>\n",
       "    <tr>\n",
       "      <th>361</th>\n",
       "      <td>./data/YAHOO/YahooA4Benchmark-TS</td>\n",
       "      <td>0.123523</td>\n",
       "      <td>0.375000</td>\n",
       "      <td>0.400000</td>\n",
       "      <td>0.387097</td>\n",
       "    </tr>\n",
       "    <tr>\n",
       "      <th>362</th>\n",
       "      <td>./data/YAHOO/YahooA4Benchmark-TS</td>\n",
       "      <td>0.113843</td>\n",
       "      <td>0.266667</td>\n",
       "      <td>0.222222</td>\n",
       "      <td>0.242424</td>\n",
       "    </tr>\n",
       "  </tbody>\n",
       "</table>\n",
       "<p>363 rows × 5 columns</p>\n",
       "</div>"
      ],
      "text/plain": [
       "                              dataset      time    recall  precision        f1\n",
       "0          ./data/YAHOO/Yahoo_A1real_  0.137691  0.500000   0.083333  0.142857\n",
       "1          ./data/YAHOO/Yahoo_A1real_  0.135514  0.062500   0.055556  0.058824\n",
       "2          ./data/YAHOO/Yahoo_A1real_  0.091561  0.133333   0.181818  0.153846\n",
       "3          ./data/YAHOO/Yahoo_A1real_  0.132491  0.600000   0.230769  0.333333\n",
       "4          ./data/YAHOO/Yahoo_A1real_  0.120018  0.500000   0.100000  0.166667\n",
       "..                                ...       ...       ...        ...       ...\n",
       "358  ./data/YAHOO/YahooA4Benchmark-TS  0.104858  0.307692   0.222222  0.258065\n",
       "359  ./data/YAHOO/YahooA4Benchmark-TS  0.101684  0.200000   0.071429  0.105263\n",
       "360  ./data/YAHOO/YahooA4Benchmark-TS  0.099763  0.500000   0.071429  0.125000\n",
       "361  ./data/YAHOO/YahooA4Benchmark-TS  0.123523  0.375000   0.400000  0.387097\n",
       "362  ./data/YAHOO/YahooA4Benchmark-TS  0.113843  0.266667   0.222222  0.242424\n",
       "\n",
       "[363 rows x 5 columns]"
      ]
     },
     "execution_count": 15,
     "metadata": {},
     "output_type": "execute_result"
    }
   ],
   "source": [
    "df.head(-1)"
   ]
  },
  {
   "cell_type": "code",
   "execution_count": null,
   "metadata": {},
   "outputs": [
    {
     "name": "stdout",
     "output_type": "stream",
     "text": [
      "dataset\n",
      "./data/YAHOO/YahooA3Benchmark-TS    0.367472\n",
      "./data/YAHOO/YahooA4Benchmark-TS    0.313298\n",
      "./data/YAHOO/Yahoo_A1real_          0.181545\n",
      "./data/YAHOO/Yahoo_A2synthetic_     0.359666\n",
      "Name: f1, dtype: float64\n",
      "['./data/YAHOO/Yahoo_A1real_', './data/YAHOO/Yahoo_A2synthetic_', './data/YAHOO/YahooA3Benchmark-TS', './data/YAHOO/YahooA4Benchmark-TS']\n"
     ]
    }
   ],
   "source": [
    "# Get the mean time and f1 score for each dataset\n",
    "df = pd.read_csv('original_results.csv')\n",
    "print(df.groupby('dataset')['f1'].mean())"
   ]
  },
  {
   "cell_type": "code",
   "execution_count": 20,
   "metadata": {},
   "outputs": [],
   "source": [
    "# Save the results to a csv file\n",
    "df.to_csv('original_results.csv', index=False)"
   ]
  },
  {
   "cell_type": "code",
   "execution_count": null,
   "metadata": {},
   "outputs": [
    {
     "name": "stderr",
     "output_type": "stream",
     "text": [
      "100%|██████████| 100/100 [00:08<00:00, 12.04it/s]\n",
      "100%|██████████| 100/100 [00:06<00:00, 15.92it/s]\n"
     ]
    },
    {
     "name": "stdout",
     "output_type": "stream",
     "text": [
      "Dataset: ./data/YAHOO/Yahoo_A1real_, Original F1: 0.1815451391168642, Half F1: 0.19296676945815883, Speedup: 1.3371071134832144\n"
     ]
    },
    {
     "name": "stderr",
     "output_type": "stream",
     "text": [
      "100%|██████████| 100/100 [00:10<00:00,  9.88it/s]\n",
      "100%|██████████| 100/100 [00:08<00:00, 12.25it/s]\n"
     ]
    },
    {
     "name": "stdout",
     "output_type": "stream",
     "text": [
      "Dataset: ./data/YAHOO/Yahoo_A2synthetic_, Original F1: 0.35966572173122063, Half F1: 0.3223598087058345, Speedup: 1.2477456251788377\n"
     ]
    },
    {
     "name": "stderr",
     "output_type": "stream",
     "text": [
      "100%|██████████| 100/100 [00:12<00:00,  7.77it/s]\n",
      "100%|██████████| 100/100 [00:10<00:00,  9.27it/s]\n"
     ]
    },
    {
     "name": "stdout",
     "output_type": "stream",
     "text": [
      "Dataset: ./data/YAHOO/YahooA3Benchmark-TS, Original F1: 0.36747245545181595, Half F1: 0.360629519189596, Speedup: 1.2054897627821104\n"
     ]
    },
    {
     "name": "stderr",
     "output_type": "stream",
     "text": [
      "100%|██████████| 100/100 [00:12<00:00,  8.18it/s]\n",
      "100%|██████████| 100/100 [00:10<00:00,  9.73it/s]"
     ]
    },
    {
     "name": "stdout",
     "output_type": "stream",
     "text": [
      "Dataset: ./data/YAHOO/YahooA4Benchmark-TS, Original F1: 0.31329769587276046, Half F1: 0.2958599042921132, Speedup: 1.1984343908121413\n"
     ]
    },
    {
     "name": "stderr",
     "output_type": "stream",
     "text": [
      "\n"
     ]
    }
   ],
   "source": [
    "# z1 = list(d / 2 for d in range(4, 20))\n",
    "z2 = list(d / 2 for d in range(4, 12))\n",
    "# k1 = [5,6,7,8,9,10,13,17,21,30,40]\n",
    "k2 = [5,8, 13, 21, 30]\n",
    "\n",
    "df = pd.read_csv('original_results.csv')\n",
    "speedups = []\n",
    "f1s = []\n",
    "# Test the Yahoo dataset with the selected z values\n",
    "for dataset in variables.datasets:\n",
    "    times_half, _, _, f1s_half = Experiment.test_dataset(dataset_root_name=dataset, mode='z', slide=100, window=200, z=z2)\n",
    "\n",
    "    # Calculate speedup\n",
    "    speedup = np.sum(times_original) / np.sum(times_half)\n",
    "    # Mean f1 score\n",
    "    speedups.append(speedup)\n",
    "    f1s.append(np.mean(f1s_half))\n",
    "\n",
    "    print(f'Dataset: {dataset}, Original F1: {np.mean(f1s_original)}, Half F1: {np.mean(f1s_half)}, Speedup: {speedup}')\n",
    "\n"
   ]
  },
  {
   "cell_type": "code",
   "execution_count": 21,
   "metadata": {},
   "outputs": [
    {
     "data": {
      "image/png": "[encoded data removed]",
      "text/plain": [
       "<Figure size 800x600 with 1 Axes>"
      ]
     },
     "metadata": {},
     "output_type": "display_data"
    }
   ],
   "source": [
    "f1_diff = [f1 - true_f1 for f1, true_f1 in zip(f1s, true_f1s)]\n",
    "\n",
    "plt.figure(figsize=(8, 6))\n",
    "plt.xlabel('Speedup')\n",
    "plt.ylabel('Difference in F1 Score')\n",
    "\n",
    "plt.xlim(1, max(speedups) * 1.1)\n",
    "\n",
    "markers = ['o', 's', 'D', '^', 'v', '*', 'p', 'X', '<', '>']\n",
    "colors = plt.cm.rainbow(np.linspace(0, 1, len(variables.dataset_names)))\n",
    "\n",
    "# Plot scatter points\n",
    "for i, dataset in enumerate(variables.dataset_names):\n",
    "    plt.scatter(speedups[i], f1_diff[i], color=colors[i], label=dataset, marker=markers[i % len(markers)])\n",
    "\n",
    "# Fetch updated y-limits after scatter plot\n",
    "y_min, y_max = plt.ylim()\n",
    "\n",
    "# Add vertical and horizontal dashed lines\n",
    "for i, dataset in enumerate(variables.dataset_names):\n",
    "    plt.axhline(y=f1_diff[i], color=colors[i], linestyle='--', linewidth=0.5, \n",
    "                xmax=(speedups[i] - 1) / (plt.xlim()[1] - 1))\n",
    "    plt.axvline(x=speedups[i], color=colors[i], linestyle='--', linewidth=0.5, \n",
    "                ymax=(f1_diff[i] - y_min) / (y_max - y_min))\n",
    "\n",
    "plt.legend()\n",
    "plt.title('Bottom half z values')\n",
    "plt.show()"
   ]
  }
 ],
 "metadata": {
  "kernelspec": {
   "display_name": "ADBOD",
   "language": "python",
   "name": "python3"
  },
  "language_info": {
   "codemirror_mode": {
    "name": "ipython",
    "version": 3
   },
   "file_extension": ".py",
   "mimetype": "text/x-python",
   "name": "python",
   "nbconvert_exporter": "python",
   "pygments_lexer": "ipython3",
   "version": "3.8.20"
  }
 },
 "nbformat": 4,
 "nbformat_minor": 2
}
